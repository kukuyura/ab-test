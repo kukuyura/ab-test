{
 "cells": [
  {
   "cell_type": "markdown",
   "metadata": {
    "id": "Q8Uvo8ShMd7E"
   },
   "source": [
    "# ДЗ 3. A/B-тестирование, ранговые критерии, бутстрэп\n",
    "\n",
    "Дедлайн: 19.12.2023 в 23:59"
   ]
  },
  {
   "cell_type": "markdown",
   "metadata": {
    "id": "wXZtYyZ8u-8K"
   },
   "source": [
    "Вот и наступило время решать заключительное ДЗ в рамках курса ПСМО! Что вам нужно будет сделать (вкратце):\n",
    "\n",
    "- Всё дз в рамках одного набора данных о рекламной платформе\n",
    "- Сначала необходимо выбрать правильное сплитование данных из 3 предложенных, на основании значения которой будет происходить A/B тест. Обосновать выбор, проверив необходимые предпосылки однородности А и В выборок с помощью ранговых критериев и изученного статистического аппарата (2 балла)\n",
    "- * Может приключиться такая ситуация, что выбранное сплитование не совсем подходит для проведения A/B, поэтому не поленитесь выбрать ту, для которой интерпретация каждого из ранговых критериев соответствует вашим исходным предположениям\n",
    "- Провести A/B тест и подвести итоги со всеми статистиками, использовать техники с семинара для повышения чувствительности/корректности А/В теста (3.5 балла)\n",
    "- Реализовать бутстрап как альтернативный метод проверки гипотеы, поставленной в А/В (3 балла)\n",
    "- Содержательные выводы по итогам работы, интерпретирующие результат с бизнесовой точки зрения, как минимум 3-4 предложения (1.5 балла)\n",
    "\n",
    "Бонусы!\n",
    "- +1 балл к дз, если до проведения основной части работы вы реализуете ЕМ-алгоритм для разделения смеси распределений (подсказка: смесей от 2 до 4)\n",
    "- +1 балл к дз, если реализуете CUPED в рамках анализа результатов А/В\n",
    "\n",
    "P.s. Кажется, если вы хорошо поняли крайние 3 темы курса, на решение ДЗ и интерпретацию результатов у вас уйдёт не больше 3-4 часов. Это дз больше про понимание и умение интерпретировать полученное, а не про фундаментальную математику"
   ]
  },
  {
   "cell_type": "code",
   "execution_count": 1,
   "metadata": {
    "id": "7Ywsg6MXu2Ta"
   },
   "outputs": [],
   "source": [
    "import pandas as pd\n",
    "import numpy as np\n",
    "\n",
    "import plotly.express as px\n",
    "import plotly.graph_objects as go\n",
    "import matplotlib.pyplot as plt\n",
    "from statsmodels.stats.proportion import proportions_ztest\n",
    "from scipy import stats"
   ]
  },
  {
   "cell_type": "code",
   "execution_count": 2,
   "metadata": {
    "colab": {
     "base_uri": "https://localhost:8080/",
     "height": 424
    },
    "id": "-7kFJU8tVMGw",
    "outputId": "a0a6b442-437e-4b47-896e-6233da3139d8"
   },
   "outputs": [
    {
     "data": {
      "text/html": [
       "<div>\n",
       "<style scoped>\n",
       "    .dataframe tbody tr th:only-of-type {\n",
       "        vertical-align: middle;\n",
       "    }\n",
       "\n",
       "    .dataframe tbody tr th {\n",
       "        vertical-align: top;\n",
       "    }\n",
       "\n",
       "    .dataframe thead th {\n",
       "        text-align: right;\n",
       "    }\n",
       "</style>\n",
       "<table border=\"1\" class=\"dataframe\">\n",
       "  <thead>\n",
       "    <tr style=\"text-align: right;\">\n",
       "      <th></th>\n",
       "      <th>id</th>\n",
       "      <th>split_1</th>\n",
       "      <th>split_2</th>\n",
       "      <th>split_3</th>\n",
       "      <th>is_teenager</th>\n",
       "      <th>num_segments</th>\n",
       "      <th>views</th>\n",
       "      <th>clicks</th>\n",
       "      <th>ctr</th>\n",
       "    </tr>\n",
       "  </thead>\n",
       "  <tbody>\n",
       "    <tr>\n",
       "      <th>0</th>\n",
       "      <td>0</td>\n",
       "      <td>A</td>\n",
       "      <td>B</td>\n",
       "      <td>A</td>\n",
       "      <td>0</td>\n",
       "      <td>15</td>\n",
       "      <td>62</td>\n",
       "      <td>3</td>\n",
       "      <td>0.048387</td>\n",
       "    </tr>\n",
       "    <tr>\n",
       "      <th>1</th>\n",
       "      <td>1</td>\n",
       "      <td>A</td>\n",
       "      <td>B</td>\n",
       "      <td>B</td>\n",
       "      <td>0</td>\n",
       "      <td>4</td>\n",
       "      <td>5</td>\n",
       "      <td>0</td>\n",
       "      <td>0.000000</td>\n",
       "    </tr>\n",
       "    <tr>\n",
       "      <th>2</th>\n",
       "      <td>2</td>\n",
       "      <td>B</td>\n",
       "      <td>A</td>\n",
       "      <td>B</td>\n",
       "      <td>1</td>\n",
       "      <td>14</td>\n",
       "      <td>47</td>\n",
       "      <td>1</td>\n",
       "      <td>0.021277</td>\n",
       "    </tr>\n",
       "    <tr>\n",
       "      <th>3</th>\n",
       "      <td>3</td>\n",
       "      <td>B</td>\n",
       "      <td>A</td>\n",
       "      <td>B</td>\n",
       "      <td>1</td>\n",
       "      <td>2</td>\n",
       "      <td>3</td>\n",
       "      <td>0</td>\n",
       "      <td>0.000000</td>\n",
       "    </tr>\n",
       "    <tr>\n",
       "      <th>4</th>\n",
       "      <td>4</td>\n",
       "      <td>B</td>\n",
       "      <td>A</td>\n",
       "      <td>B</td>\n",
       "      <td>0</td>\n",
       "      <td>11</td>\n",
       "      <td>50</td>\n",
       "      <td>0</td>\n",
       "      <td>0.000000</td>\n",
       "    </tr>\n",
       "    <tr>\n",
       "      <th>...</th>\n",
       "      <td>...</td>\n",
       "      <td>...</td>\n",
       "      <td>...</td>\n",
       "      <td>...</td>\n",
       "      <td>...</td>\n",
       "      <td>...</td>\n",
       "      <td>...</td>\n",
       "      <td>...</td>\n",
       "      <td>...</td>\n",
       "    </tr>\n",
       "    <tr>\n",
       "      <th>19995</th>\n",
       "      <td>19995</td>\n",
       "      <td>B</td>\n",
       "      <td>A</td>\n",
       "      <td>A</td>\n",
       "      <td>1</td>\n",
       "      <td>4</td>\n",
       "      <td>5</td>\n",
       "      <td>0</td>\n",
       "      <td>0.000000</td>\n",
       "    </tr>\n",
       "    <tr>\n",
       "      <th>19996</th>\n",
       "      <td>19996</td>\n",
       "      <td>B</td>\n",
       "      <td>A</td>\n",
       "      <td>B</td>\n",
       "      <td>1</td>\n",
       "      <td>2</td>\n",
       "      <td>7</td>\n",
       "      <td>0</td>\n",
       "      <td>0.000000</td>\n",
       "    </tr>\n",
       "    <tr>\n",
       "      <th>19997</th>\n",
       "      <td>19997</td>\n",
       "      <td>A</td>\n",
       "      <td>B</td>\n",
       "      <td>A</td>\n",
       "      <td>0</td>\n",
       "      <td>6</td>\n",
       "      <td>22</td>\n",
       "      <td>5</td>\n",
       "      <td>0.227273</td>\n",
       "    </tr>\n",
       "    <tr>\n",
       "      <th>19998</th>\n",
       "      <td>19998</td>\n",
       "      <td>A</td>\n",
       "      <td>A</td>\n",
       "      <td>B</td>\n",
       "      <td>0</td>\n",
       "      <td>10</td>\n",
       "      <td>52</td>\n",
       "      <td>0</td>\n",
       "      <td>0.000000</td>\n",
       "    </tr>\n",
       "    <tr>\n",
       "      <th>19999</th>\n",
       "      <td>19999</td>\n",
       "      <td>B</td>\n",
       "      <td>B</td>\n",
       "      <td>A</td>\n",
       "      <td>1</td>\n",
       "      <td>9</td>\n",
       "      <td>53</td>\n",
       "      <td>0</td>\n",
       "      <td>0.000000</td>\n",
       "    </tr>\n",
       "  </tbody>\n",
       "</table>\n",
       "<p>20000 rows × 9 columns</p>\n",
       "</div>"
      ],
      "text/plain": [
       "          id split_1 split_2 split_3  is_teenager  num_segments  views  \\\n",
       "0          0       A       B       A            0            15     62   \n",
       "1          1       A       B       B            0             4      5   \n",
       "2          2       B       A       B            1            14     47   \n",
       "3          3       B       A       B            1             2      3   \n",
       "4          4       B       A       B            0            11     50   \n",
       "...      ...     ...     ...     ...          ...           ...    ...   \n",
       "19995  19995       B       A       A            1             4      5   \n",
       "19996  19996       B       A       B            1             2      7   \n",
       "19997  19997       A       B       A            0             6     22   \n",
       "19998  19998       A       A       B            0            10     52   \n",
       "19999  19999       B       B       A            1             9     53   \n",
       "\n",
       "       clicks       ctr  \n",
       "0           3  0.048387  \n",
       "1           0  0.000000  \n",
       "2           1  0.021277  \n",
       "3           0  0.000000  \n",
       "4           0  0.000000  \n",
       "...       ...       ...  \n",
       "19995       0  0.000000  \n",
       "19996       0  0.000000  \n",
       "19997       5  0.227273  \n",
       "19998       0  0.000000  \n",
       "19999       0  0.000000  \n",
       "\n",
       "[20000 rows x 9 columns]"
      ]
     },
     "execution_count": 2,
     "metadata": {},
     "output_type": "execute_result"
    }
   ],
   "source": [
    "data = pd.read_csv('https://raw.githubusercontent.com/ZolotarevStat/psmo_22_23/2023/df_hw3.csv')\n",
    "data"
   ]
  },
  {
   "cell_type": "markdown",
   "metadata": {
    "id": "LGIgt_Vn3tp8"
   },
   "source": [
    "Что есть в датасете для выполнения домашки:\n",
    "* id - идентификатор пользователя\n",
    "* split_1 - вариант сплитования 1\n",
    "* split_2 - вариант сплитования 2\n",
    "* split_3 - вариант сплитования 3\n",
    "* is_teenager - меньше ли 25 лет пользователю\n",
    "* num_segments - количество сегментов интересов [футбол, баскетбол, киберспорт, etc.] у пользователя\n",
    "* views - просмотры рекламы в рамках проведённого эксперимента\n",
    "* clicks - клики по рекламе в рамках проведённого эксперимента\n",
    "* CTR - views / clicks"
   ]
  },
  {
   "cell_type": "markdown",
   "metadata": {
    "id": "TC1lQ378Ai6s"
   },
   "source": [
    "## Бонус: EM (1 балл)\n",
    "\n",
    "Реализуйте ЕМ-алгоритм для разделения смеси распределений (подсказка: смесей от 2 до 4) исходных данных. Реализация поможет лучше интерпретировать полученные результаты по ходу всего ДЗ\n"
   ]
  },
  {
   "cell_type": "markdown",
   "metadata": {},
   "source": [
    "Для начала посмотрим на графики распределений значений в разных колонках"
   ]
  },
  {
   "cell_type": "code",
   "execution_count": 3,
   "metadata": {},
   "outputs": [
    {
     "data": {
      "image/png": "[encoded data removed]",
      "text/plain": [
       "<Figure size 432x288 with 1 Axes>"
      ]
     },
     "metadata": {
      "needs_background": "light"
     },
     "output_type": "display_data"
    },
    {
     "data": {
      "image/png": "[encoded data removed]",
      "text/plain": [
       "<Figure size 432x288 with 1 Axes>"
      ]
     },
     "metadata": {
      "needs_background": "light"
     },
     "output_type": "display_data"
    },
    {
     "data": {
      "image/png": "[encoded data removed]",
      "text/plain": [
       "<Figure size 432x288 with 1 Axes>"
      ]
     },
     "metadata": {
      "needs_background": "light"
     },
     "output_type": "display_data"
    },
    {
     "data": {
      "image/png": "[encoded data removed]",
      "text/plain": [
       "<Figure size 432x288 with 1 Axes>"
      ]
     },
     "metadata": {
      "needs_background": "light"
     },
     "output_type": "display_data"
    }
   ],
   "source": [
    "numeric_cols = [\"num_segments\", \"views\", \"clicks\", \"ctr\"]\n",
    "for col in numeric_cols:\n",
    "    plt.title(col)\n",
    "    data[col].plot(kind='kde')\n",
    "    plt.show()"
   ]
  },
  {
   "cell_type": "markdown",
   "metadata": {},
   "source": [
    "Самые явные пики видны на первых двух графиках - на одном два, на другом три (На третьем странные пики обсуловлены лишь тем, что величина дискретная). Поэтому логично считать, что мы имеем дело с тремя смесями и будем делать EM-алгоритм именно по колонке views"
   ]
  },
  {
   "cell_type": "code",
   "execution_count": 4,
   "metadata": {},
   "outputs": [],
   "source": [
    "from scipy.stats import norm \n",
    "from tqdm import tqdm"
   ]
  },
  {
   "cell_type": "code",
   "execution_count": 5,
   "metadata": {},
   "outputs": [],
   "source": [
    "import numpy as np\n",
    "import pandas as pd\n",
    "from scipy.stats import norm\n",
    "\n",
    "def em_algorithm(df, column_name, max_iterations=100):\n",
    "    # Инициализация параметров моделей\n",
    "    num_samples = len(df)\n",
    "    mu = [df[column_name].min(), df[column_name].mean(), df[column_name].max()]\n",
    "    sigma = [1, 1, 1]\n",
    "    weights = [1 / 3, 1 / 3, 1 / 3]\n",
    "\n",
    "    # EM-алгоритм\n",
    "    for _ in range(max_iterations):\n",
    "        # E-шаг\n",
    "        responsibilities = []\n",
    "        for i in range(3):\n",
    "            responsibility = weights[i] * norm.pdf(df[column_name], mu[i], sigma[i])\n",
    "            responsibilities.append(responsibility)\n",
    "        responsibilities = np.array(responsibilities)\n",
    "        responsibilities /= np.sum(responsibilities, axis=0)\n",
    "\n",
    "        # M-шаг\n",
    "        for i in range(3):\n",
    "            N = np.sum(responsibilities[i])\n",
    "            weights[i] = N / num_samples\n",
    "            mu[i] = np.sum(responsibilities[i] * df[column_name]) / N\n",
    "            sigma[i] = np.sqrt(np.sum(responsibilities[i] * (df[column_name] - mu[i]) ** 2) / N)\n",
    "\n",
    "    clusters = []\n",
    "    for i in range(3):\n",
    "        cluster = df.copy()\n",
    "        cluster['responsibility'] = responsibilities[i]\n",
    "        cluster = cluster.sort_values(by='responsibility', ascending=False)\n",
    "        clusters.append(cluster)\n",
    "\n",
    "    return clusters, weights\n",
    "\n",
    "clusters, weights = em_algorithm(data, 'views')"
   ]
  },
  {
   "cell_type": "code",
   "execution_count": 6,
   "metadata": {},
   "outputs": [
    {
     "data": {
      "image/png": "[encoded data removed]",
      "text/plain": [
       "<Figure size 432x288 with 1 Axes>"
      ]
     },
     "metadata": {
      "needs_background": "light"
     },
     "output_type": "display_data"
    }
   ],
   "source": [
    "n = len(data['views'])\n",
    "cutted_clusters = []\n",
    "\n",
    "for i, cluster in enumerate(clusters):\n",
    "    cutted_clusters.append(cluster.iloc[:int(n * weights[i])])\n",
    "    \n",
    "views_count = []\n",
    "for i in range(3):\n",
    "    views_count.append(pd.DataFrame(cutted_clusters[i].groupby('views').size()))\n",
    "    plt.plot(views_count[-1], label=f'Кластер {i + 1}')\n",
    "ind = range(data['views'].max() + 1)\n",
    "data['views'].plot(bins=ind, kind='hist', alpha=0.3, label='Исходные данные')\n",
    "plt.legend()\n",
    "plt.show()"
   ]
  },
  {
   "cell_type": "markdown",
   "metadata": {},
   "source": [
    "Очень интересно проверить и другие колонки, например num_segments:"
   ]
  },
  {
   "cell_type": "code",
   "execution_count": 7,
   "metadata": {},
   "outputs": [
    {
     "data": {
      "image/png": "[encoded data removed]",
      "text/plain": [
       "<Figure size 432x288 with 1 Axes>"
      ]
     },
     "metadata": {
      "needs_background": "light"
     },
     "output_type": "display_data"
    }
   ],
   "source": [
    "ns_count = []\n",
    "for i in range(3):\n",
    "    ns_count.append(pd.DataFrame(cutted_clusters[i].groupby('num_segments').size()))\n",
    "    plt.plot(ns_count[-1], label=f'Кластер {i + 1}')\n",
    "ind = range(data['num_segments'].max() + 1)\n",
    "data['num_segments'].plot(bins=ind, kind='hist', alpha=0.3, label='Исходные данные')\n",
    "plt.legend()\n",
    "plt.show()"
   ]
  },
  {
   "cell_type": "markdown",
   "metadata": {},
   "source": [
    "Ура! Несмотря на то, что мы разделяли смеси EM-алгоритмом по колонке views, пики на колонке num_segments также согласованы. Интересно также, что третий пик изначально был просто не заметен."
   ]
  },
  {
   "cell_type": "markdown",
   "metadata": {
    "id": "rXvJ9maSpsKH"
   },
   "source": [
    "## Проверяем однородность разбиений (2 балла)"
   ]
  },
  {
   "cell_type": "markdown",
   "metadata": {
    "id": "9-mVYLUfppuH"
   },
   "source": [
    "В этой части задания необходимо выбрать правильный метод разбиения выборки из предложенных вариантов [split_1, split_2, split_3], проверяя следующие гипотезы [при проверке используйте как минимум 2 ранговых критерия]:\n",
    "* гипотеза о сдвиге\n",
    "* гипотеза о масштабе\n",
    "* гипотеза о независимости\n",
    "\n",
    "Однородность разбиений необходимо проверять, используя только те данные, которые есть у нас ДО проведения А/В теста.\n",
    "\n",
    "Разбалловка:\n",
    "* За реализацию кода +0.5 балла\n",
    "* За корректный и *обоснованный* выбор признаков, на основе которых проверяется однородность, +0.5 балла (при неверном выборе признаков 0 баллов за последующие части этого блока)\n",
    "* За интерпретацию полученных результатов проверки гипотез +0.5 балла\n",
    "* За выбор правильного метода разбиения по итогам блока +0.5 балла\n",
    "\n",
    "NOTE: Обратите внимание на формат данных, имеющихся о пользователе до проведения эксперимента И внимательно подумайте над тем, каким образом можно проверить гипотезу о независимости"
   ]
  },
  {
   "cell_type": "markdown",
   "metadata": {},
   "source": [
    "До проведения эксперимента у нас есть всего три колонки: num_segments, is_teenager и id. Колонка id могла бы быть информативной, если бы, например, какой-то из сплитов случайно использовал ее, но я никаких зависимостей не обнаружил, поэтому далее используем только num_segments и is_teenager."
   ]
  },
  {
   "cell_type": "markdown",
   "metadata": {},
   "source": [
    "Сначала интересно посмотреть на распределение num_segments в разных сплитах:"
   ]
  },
  {
   "cell_type": "code",
   "execution_count": 8,
   "metadata": {},
   "outputs": [
    {
     "data": {
      "image/png": "[encoded data removed]",
      "text/plain": [
       "<Figure size 432x288 with 1 Axes>"
      ]
     },
     "metadata": {
      "needs_background": "light"
     },
     "output_type": "display_data"
    },
    {
     "data": {
      "image/png": "[encoded data removed]",
      "text/plain": [
       "<Figure size 432x288 with 1 Axes>"
      ]
     },
     "metadata": {
      "needs_background": "light"
     },
     "output_type": "display_data"
    },
    {
     "data": {
      "image/png": "[encoded data removed]",
      "text/plain": [
       "<Figure size 432x288 with 1 Axes>"
      ]
     },
     "metadata": {
      "needs_background": "light"
     },
     "output_type": "display_data"
    }
   ],
   "source": [
    "splits = ['split_1', 'split_2', 'split_3']\n",
    "\n",
    "for split in splits:\n",
    "    plt.title(f\"{split}\")\n",
    "    for x in ['A', 'B']:\n",
    "        data.loc[data[split] == x][\"num_segments\"].plot(kind='kde', label=f'num_segments {x}')\n",
    "    plt.legend()\n",
    "    plt.show()"
   ]
  },
  {
   "cell_type": "markdown",
   "metadata": {},
   "source": [
    "Сразу видно, что в первом сплите происходит что-то супер странное. Чтобы все было честно, я все равно посчитаю для него статистические критерии, а пока сфокусируемся на 2 и 3 сплитах. Сначала посмотрим на гистограммы: "
   ]
  },
  {
   "cell_type": "code",
   "execution_count": 9,
   "metadata": {},
   "outputs": [
    {
     "data": {
      "image/png": "[encoded data removed]",
      "text/plain": [
       "<Figure size 432x288 with 1 Axes>"
      ]
     },
     "metadata": {
      "needs_background": "light"
     },
     "output_type": "display_data"
    },
    {
     "data": {
      "image/png": "[encoded data removed]",
      "text/plain": [
       "<Figure size 432x288 with 1 Axes>"
      ]
     },
     "metadata": {
      "needs_background": "light"
     },
     "output_type": "display_data"
    }
   ],
   "source": [
    "for split in splits[1:]:\n",
    "    plt.title(f\"{split}\")\n",
    "    for x in ['A', 'B']:\n",
    "        data.loc[data[split] == x][\"num_segments\"].plot(kind='hist', alpha=0.2, bins=ind, label=f'num_segments {x}')\n",
    "    plt.legend()\n",
    "    plt.show()"
   ]
  },
  {
   "cell_type": "markdown",
   "metadata": {},
   "source": [
    "Видно, что у 3-го сплита в группе B количество элементов num_segments, меньше либо равных 12 строго больше, чем в группе A для каждого такого значения, а 2-ой сплит более сбалансированный, поэтому пока больше всего веры именно в него. Еще посмотрим на количество элементов в разных группах и подгруппах в зависимости от начения is_teenager."
   ]
  },
  {
   "cell_type": "code",
   "execution_count": 10,
   "metadata": {},
   "outputs": [
    {
     "name": "stdout",
     "output_type": "stream",
     "text": [
      "Total rows: 20000\n",
      "####################\n",
      "split_1 - Rows in A group: 9978\n",
      "split_1 - Rows in A group with is_teenager == 0: 9978\n",
      "split_1 - Rows in A group with is_teenager == 1: 0\n",
      "split_1 - Rows in B group: 10022\n",
      "split_1 - Rows in B group with is_teenager == 0: 428\n",
      "split_1 - Rows in B group with is_teenager == 1: 9594\n",
      "####################\n",
      "split_2 - Rows in A group: 10000\n",
      "split_2 - Rows in A group with is_teenager == 0: 5222\n",
      "split_2 - Rows in A group with is_teenager == 1: 4778\n",
      "split_2 - Rows in B group: 10000\n",
      "split_2 - Rows in B group with is_teenager == 0: 5184\n",
      "split_2 - Rows in B group with is_teenager == 1: 4816\n",
      "####################\n",
      "split_3 - Rows in A group: 9789\n",
      "split_3 - Rows in A group with is_teenager == 0: 5124\n",
      "split_3 - Rows in A group with is_teenager == 1: 4665\n",
      "split_3 - Rows in B group: 10211\n",
      "split_3 - Rows in B group with is_teenager == 0: 5282\n",
      "split_3 - Rows in B group with is_teenager == 1: 4929\n"
     ]
    }
   ],
   "source": [
    "n = data.shape[0]\n",
    "print(\"Total rows:\", n)\n",
    "for split in splits:\n",
    "    print(\"####################\")\n",
    "    for x in ['A', 'B']:\n",
    "        print(f\"{split} - Rows in {x} group:\", \n",
    "              len(data.loc[data[split] == x]))\n",
    "        for y in [0, 1]:\n",
    "            print(f\"{split} - Rows in {x} group with is_teenager == {y}:\", \n",
    "                  len(data.loc[data[split] == x].loc[data['is_teenager'] == y]))"
   ]
  },
  {
   "cell_type": "markdown",
   "metadata": {},
   "source": [
    "В очередной раз убеждаемся, что в первом сплите что-то совершенно ужасное - в группе A, например, вообще нет строчек, для которых is_teenager == 1. А еще веры в 3-й сплит опять чуть меньше, так как 2-ой, в отличие от него, разделяет данные ровно пополам. А теперь посчитаем критерии, приняв уровень значимости $\\alpha = 0.1$"
   ]
  },
  {
   "cell_type": "markdown",
   "metadata": {},
   "source": [
    "Гипотезы о сдвиге и масштабе будем проверять на колонке num_segments, так как is_teenager принимает всего два значения: 0 и 1 (эта колонка понадобится нам позже, в проверке гипотез о независимости)"
   ]
  },
  {
   "cell_type": "code",
   "execution_count": 11,
   "metadata": {},
   "outputs": [],
   "source": [
    "from scipy.stats import mannwhitneyu, ansari, kendalltau, spearmanr"
   ]
  },
  {
   "cell_type": "code",
   "execution_count": 12,
   "metadata": {},
   "outputs": [
    {
     "name": "stdout",
     "output_type": "stream",
     "text": [
      "###\tsplit_1\tbegin\t###\n",
      "MannwhitneyuResult(statistic=72674854.5, pvalue=0.0)\n",
      "AnsariResult(statistic=54365047.5, pvalue=2.8525396665998405e-110)\n",
      "###\tsplit_1\tend\t###\n",
      "###\tsplit_2\tbegin\t###\n",
      "MannwhitneyuResult(statistic=49391497.5, pvalue=0.13428879372694635)\n",
      "AnsariResult(statistic=49909292.5, pvalue=0.6328584524229113)\n",
      "###\tsplit_2\tend\t###\n",
      "###\tsplit_3\tbegin\t###\n",
      "MannwhitneyuResult(statistic=51018351.0, pvalue=0.010427959697644667)\n",
      "AnsariResult(statistic=48304620.0, pvalue=0.0012752445758212724)\n",
      "###\tsplit_3\tend\t###\n"
     ]
    }
   ],
   "source": [
    "for split in splits:\n",
    "    print('###', split, 'begin', '###', sep='\\t')\n",
    "    print(mannwhitneyu(data.loc[data[split]=='A']['num_segments'],\n",
    "                       data.loc[data[split]=='B']['num_segments']))\n",
    "    print(ansari(data.loc[data[split]=='A']['num_segments'],\n",
    "                       data.loc[data[split]=='B']['num_segments']))\n",
    "    \n",
    "    print('###', split, 'end', '###', sep='\\t')"
   ]
  },
  {
   "cell_type": "markdown",
   "metadata": {},
   "source": [
    "Для 1-го и 3-их сплитов и критерий Манна-Уитни, и критерий Ансари выдают p-value, меньший $\\alpha$, следовательно, мы можем отклонить для них нулевую гипотезу о том, что данные в группах A и B распределены одинаково в пользу соответствующих альтернатив - гипотез о сдвиге и о масштабе. Для 2-го сплита мы не можем отклонить нулевую гипотезу на данном уровне значимости ни на одном из двух критериев."
   ]
  },
  {
   "cell_type": "markdown",
   "metadata": {},
   "source": [
    "Теперь проверим гипотезы независимости. Для начала, просто интересно проверить, зависят ли колонки num_segments и is_teenager в исходных данных: "
   ]
  },
  {
   "cell_type": "code",
   "execution_count": 13,
   "metadata": {},
   "outputs": [
    {
     "name": "stdout",
     "output_type": "stream",
     "text": [
      "KendalltauResult(correlation=-0.3480440053399894, pvalue=0.0)\n"
     ]
    }
   ],
   "source": [
    "print(kendalltau(data['is_teenager'],\n",
    "                 data['num_segments']))"
   ]
  },
  {
   "cell_type": "markdown",
   "metadata": {},
   "source": [
    "p-value равен нулю, точно отклоняем нулевую гипотезу о независимости. Зависимость этих величин хорошо видна на графике:"
   ]
  },
  {
   "cell_type": "code",
   "execution_count": 14,
   "metadata": {},
   "outputs": [
    {
     "data": {
      "image/png": "[encoded data removed]",
      "text/plain": [
       "<Figure size 432x288 with 1 Axes>"
      ]
     },
     "metadata": {
      "needs_background": "light"
     },
     "output_type": "display_data"
    }
   ],
   "source": [
    "plt.title(\"num_segments and is_teenager dependency\")\n",
    "for y in [0, 1]:\n",
    "    data.loc[data['is_teenager'] == y][\"num_segments\"].plot(kind='kde', label=f'is_teenager == {y}')\n",
    "plt.legend()\n",
    "plt.show()    "
   ]
  },
  {
   "cell_type": "markdown",
   "metadata": {},
   "source": [
    "Посмотрим теперь, есть ли корреляция между разбиением на группы в сплитах и значением num_segments внутри кластеров с разным значением is_teenager"
   ]
  },
  {
   "cell_type": "code",
   "execution_count": 15,
   "metadata": {},
   "outputs": [
    {
     "name": "stdout",
     "output_type": "stream",
     "text": [
      "###\tsplit_1\tbegin\t###\n",
      "is_teenager == 0: KendalltauResult(correlation=-0.006731946477376289, pvalue=0.4142933171977963)\n",
      "is_teenager == 1: KendalltauResult(correlation=nan, pvalue=nan)\n",
      "###\tsplit_1\tend\t###\n",
      "###\tsplit_2\tbegin\t###\n",
      "is_teenager == 0: KendalltauResult(correlation=0.012600193563424684, pvalue=0.1265161990381717)\n",
      "is_teenager == 1: KendalltauResult(correlation=0.013631750401475304, pvalue=0.1256534981463989)\n",
      "###\tsplit_2\tend\t###\n",
      "###\tsplit_3\tbegin\t###\n",
      "is_teenager == 0: KendalltauResult(correlation=-0.015177353744679089, pvalue=0.0656935084248891)\n",
      "is_teenager == 1: KendalltauResult(correlation=-0.0092969823276769, pvalue=0.2962650476262463)\n",
      "###\tsplit_3\tend\t###\n"
     ]
    }
   ],
   "source": [
    "for split in splits:\n",
    "    print('###', split, 'begin', '###', sep='\\t')\n",
    "    print(\"is_teenager == 0:\",\n",
    "          kendalltau(data.loc[data['is_teenager']==0][split],\n",
    "                     data.loc[data['is_teenager']==0]['num_segments']))\n",
    "    print(\"is_teenager == 1:\",\n",
    "          kendalltau(data.loc[data['is_teenager']==1][split],\n",
    "                     data.loc[data['is_teenager']==1]['num_segments']))\n",
    "    print('###', split, 'end', '###', sep='\\t')"
   ]
  },
  {
   "cell_type": "markdown",
   "metadata": {},
   "source": [
    "Как и ожидалось, первый сплит выдал NaN на втором тесте (так как в одной из групп нет is_teenager == 1). Что интересно, на обусловленном уровне значимости 0.1 мы не можем отвергнуть нулевую гипотезу о нулевой корреляции между разбиением и num_segments для 2-го сплита, а для 3-го отвергаем на случае is_teenager == 0. При этом, заметим, что для случая is_teenager == 1 3-й сплит показывает большой p-value и если бы это была рабочая задача, за которую мне бы платили деньги, я бы оставил 3-й сплит на группе is_teenager == 1, а для остальных переделал бы. Тогда есть надежда, что получилось бы 1) получить такой же большой p-value в первом случае, 2) добиться разбиения 50/50 как во втором сплите 3) использовать больший уровень значимости. Но сейчас в целях академического упрощения возьмем 2-й сплит, для которого мы приняли все интересующие нулевые гипотезы на уровне значимости 0.1"
   ]
  },
  {
   "cell_type": "markdown",
   "metadata": {
    "id": "dlR6aDc3AdUr"
   },
   "source": [
    "## Подводим результаты А/В (3.5 балла)\n",
    "\n",
    "Теперь, когда мы выбрали подходящее сплитование для нашего набора данных, мы можем посмотреть на результирующие метрики, которые получились по результатам А/В теста. В рамках данной части необходимо сделать следующее:\n",
    "1. Сформулировать нулевую и альтернативную гипотезу для теста (0.5)\n",
    "2. Сравнить значения получившихся значений целевых метрик, формально проверить гипотезу и интерпретировать результат (0.5)\n",
    "3. Реализовать хотя бы два из пройденных на семинаре методов для уточнения корректности полученных результатов, если они здесь применимы (2 балла)\n",
    "3. * Бакетизация\n",
    "3. * Пост-стратификация\n",
    "3. * Дельта-метод\n",
    "4. За красивую и хорошо интерпретируемую визуализацию 0.5 балла"
   ]
  },
  {
   "cell_type": "markdown",
   "metadata": {},
   "source": [
    "Нулевая гипотеза - между двумя группами нет статистически значимой разницы в показателях CTR. Альтернатива - между двумя группами есть статистически значимая разницы в показателях CTR"
   ]
  },
  {
   "cell_type": "markdown",
   "metadata": {},
   "source": [
    "Сначала посмотрим на средние показатели метрики и графики распределения в зависимости от группы, а также средние показатели связанных величин clicks и views (ctr = clicks/views):"
   ]
  },
  {
   "cell_type": "code",
   "execution_count": 16,
   "metadata": {},
   "outputs": [],
   "source": [
    "split = 'split_2'"
   ]
  },
  {
   "cell_type": "code",
   "execution_count": 17,
   "metadata": {},
   "outputs": [
    {
     "data": {
      "image/png": "[encoded data removed]",
      "text/plain": [
       "<Figure size 432x288 with 1 Axes>"
      ]
     },
     "metadata": {
      "needs_background": "light"
     },
     "output_type": "display_data"
    }
   ],
   "source": [
    "for x in ['A', 'B']:\n",
    "    data.loc[data[split] == x][\"ctr\"].plot(kind='kde', label=f'CTR for group {x}')\n",
    "plt.legend()\n",
    "plt.show()"
   ]
  },
  {
   "cell_type": "code",
   "execution_count": 18,
   "metadata": {},
   "outputs": [
    {
     "name": "stdout",
     "output_type": "stream",
     "text": [
      "A ctr: 0.015159714308328305\n",
      "B ctr: 0.02250157059359595\n",
      "A clicks: 0.4781\n",
      "B clicks: 0.7194\n",
      "A views: 30.0\n",
      "B views: 30.1807\n"
     ]
    }
   ],
   "source": [
    "print(f\"A ctr: {np.mean(data.loc[data[split] == 'A']['ctr'])}\", \n",
    "      f\"B ctr: {np.mean(data.loc[data[split] == 'B']['ctr'])}\",\n",
    "      f\"A clicks: {np.mean(data.loc[data[split] == 'A']['clicks'])}\", \n",
    "      f\"B clicks: {np.mean(data.loc[data[split] == 'B']['clicks'])}\",\n",
    "      f\"A views: {np.mean(data.loc[data[split] == 'A']['views'])}\", \n",
    "      f\"B views: {np.mean(data.loc[data[split] == 'B']['views'])}\", sep='\\n')"
   ]
  },
  {
   "cell_type": "markdown",
   "metadata": {},
   "source": [
    "Видно, что показатели действительно отличаются. Теперь проверим статистическую значимость:"
   ]
  },
  {
   "cell_type": "code",
   "execution_count": 19,
   "metadata": {},
   "outputs": [],
   "source": [
    "from scipy.stats import ttest_ind"
   ]
  },
  {
   "cell_type": "code",
   "execution_count": 20,
   "metadata": {
    "id": "Bjhjcd1AAyii"
   },
   "outputs": [
    {
     "data": {
      "text/plain": [
       "Ttest_indResult(statistic=-11.909575568214926, pvalue=1.3600249067188855e-32)"
      ]
     },
     "execution_count": 20,
     "metadata": {},
     "output_type": "execute_result"
    }
   ],
   "source": [
    "ttest_ind(data.loc[data[split] == 'A']['ctr'], data.loc[data[split] == 'B']['ctr'])"
   ]
  },
  {
   "cell_type": "markdown",
   "metadata": {},
   "source": [
    "p-value показывает, что мы с хорошей уверенностью можем отклонить нулевую гипотезу. Копнем чуть глубже - проверим статистическую значимость в рамках следующих гипотез (исходя из того, что мы увидели в средних показателях метрик):\n",
    "\n",
    "Нулевая гипотеза - между двумя группами нет статистически значимой разницы в показателях clicks. Альтернатива - между двумя группами есть статистически значимая разницы в показателях clicks"
   ]
  },
  {
   "cell_type": "code",
   "execution_count": 21,
   "metadata": {},
   "outputs": [
    {
     "data": {
      "text/plain": [
       "Ttest_indResult(statistic=-15.734587251493144, pvalue=1.885215055544248e-55)"
      ]
     },
     "execution_count": 21,
     "metadata": {},
     "output_type": "execute_result"
    }
   ],
   "source": [
    "ttest_ind(data.loc[data[split] == 'A']['clicks'], data.loc[data[split] == 'B']['clicks'])"
   ]
  },
  {
   "cell_type": "markdown",
   "metadata": {},
   "source": [
    "Данную гипотезу мы также можем отклонить. На всякий случай, сформулируем и проверим аналогичные гипотезы для views:"
   ]
  },
  {
   "cell_type": "code",
   "execution_count": 22,
   "metadata": {},
   "outputs": [
    {
     "data": {
      "text/plain": [
       "Ttest_indResult(statistic=-0.5555216934690308, pvalue=0.5785440903206311)"
      ]
     },
     "execution_count": 22,
     "metadata": {},
     "output_type": "execute_result"
    }
   ],
   "source": [
    "ttest_ind(data.loc[data[split] == 'A']['views'], data.loc[data[split] == 'B']['views'])"
   ]
  },
  {
   "cell_type": "markdown",
   "metadata": {},
   "source": [
    "При любом адекватном уровне значимости мы принимаем нулевую гипотезу для views, т.е. изменения, тетсируемые в рамках данного эксперимента никак не влияют на views, повышают значения clicks и, следовательно, повышают CTR. Но копнем еще глубже - сначала применим пост-стратификацию, используя колонку is_teenager"
   ]
  },
  {
   "cell_type": "markdown",
   "metadata": {},
   "source": [
    "### Пост-стратификация"
   ]
  },
  {
   "cell_type": "code",
   "execution_count": 23,
   "metadata": {},
   "outputs": [
    {
     "data": {
      "text/html": [
       "<div>\n",
       "<style scoped>\n",
       "    .dataframe tbody tr th:only-of-type {\n",
       "        vertical-align: middle;\n",
       "    }\n",
       "\n",
       "    .dataframe tbody tr th {\n",
       "        vertical-align: top;\n",
       "    }\n",
       "\n",
       "    .dataframe thead th {\n",
       "        text-align: right;\n",
       "    }\n",
       "</style>\n",
       "<table border=\"1\" class=\"dataframe\">\n",
       "  <thead>\n",
       "    <tr style=\"text-align: right;\">\n",
       "      <th></th>\n",
       "      <th>is_teenager</th>\n",
       "      <th>split_2</th>\n",
       "    </tr>\n",
       "  </thead>\n",
       "  <tbody>\n",
       "    <tr>\n",
       "      <th>0</th>\n",
       "      <td>0</td>\n",
       "      <td>10406</td>\n",
       "    </tr>\n",
       "    <tr>\n",
       "      <th>1</th>\n",
       "      <td>1</td>\n",
       "      <td>9594</td>\n",
       "    </tr>\n",
       "  </tbody>\n",
       "</table>\n",
       "</div>"
      ],
      "text/plain": [
       "   is_teenager  split_2\n",
       "0            0    10406\n",
       "1            1     9594"
      ]
     },
     "metadata": {},
     "output_type": "display_data"
    },
    {
     "data": {
      "text/html": [
       "<div>\n",
       "<style scoped>\n",
       "    .dataframe tbody tr th:only-of-type {\n",
       "        vertical-align: middle;\n",
       "    }\n",
       "\n",
       "    .dataframe tbody tr th {\n",
       "        vertical-align: top;\n",
       "    }\n",
       "\n",
       "    .dataframe thead th {\n",
       "        text-align: right;\n",
       "    }\n",
       "</style>\n",
       "<table border=\"1\" class=\"dataframe\">\n",
       "  <thead>\n",
       "    <tr style=\"text-align: right;\">\n",
       "      <th></th>\n",
       "      <th>id</th>\n",
       "      <th>split_1</th>\n",
       "      <th>split_2</th>\n",
       "      <th>split_3</th>\n",
       "      <th>is_teenager</th>\n",
       "      <th>num_segments</th>\n",
       "      <th>views</th>\n",
       "      <th>clicks</th>\n",
       "      <th>ctr</th>\n",
       "      <th>weight</th>\n",
       "    </tr>\n",
       "  </thead>\n",
       "  <tbody>\n",
       "    <tr>\n",
       "      <th>0</th>\n",
       "      <td>0</td>\n",
       "      <td>A</td>\n",
       "      <td>B</td>\n",
       "      <td>A</td>\n",
       "      <td>0</td>\n",
       "      <td>15</td>\n",
       "      <td>62</td>\n",
       "      <td>3</td>\n",
       "      <td>0.048387</td>\n",
       "      <td>1.0406</td>\n",
       "    </tr>\n",
       "    <tr>\n",
       "      <th>1</th>\n",
       "      <td>1</td>\n",
       "      <td>A</td>\n",
       "      <td>B</td>\n",
       "      <td>B</td>\n",
       "      <td>0</td>\n",
       "      <td>4</td>\n",
       "      <td>5</td>\n",
       "      <td>0</td>\n",
       "      <td>0.000000</td>\n",
       "      <td>1.0406</td>\n",
       "    </tr>\n",
       "    <tr>\n",
       "      <th>2</th>\n",
       "      <td>2</td>\n",
       "      <td>B</td>\n",
       "      <td>A</td>\n",
       "      <td>B</td>\n",
       "      <td>1</td>\n",
       "      <td>14</td>\n",
       "      <td>47</td>\n",
       "      <td>1</td>\n",
       "      <td>0.021277</td>\n",
       "      <td>1.0406</td>\n",
       "    </tr>\n",
       "    <tr>\n",
       "      <th>3</th>\n",
       "      <td>3</td>\n",
       "      <td>B</td>\n",
       "      <td>A</td>\n",
       "      <td>B</td>\n",
       "      <td>1</td>\n",
       "      <td>2</td>\n",
       "      <td>3</td>\n",
       "      <td>0</td>\n",
       "      <td>0.000000</td>\n",
       "      <td>1.0406</td>\n",
       "    </tr>\n",
       "    <tr>\n",
       "      <th>4</th>\n",
       "      <td>4</td>\n",
       "      <td>B</td>\n",
       "      <td>A</td>\n",
       "      <td>B</td>\n",
       "      <td>0</td>\n",
       "      <td>11</td>\n",
       "      <td>50</td>\n",
       "      <td>0</td>\n",
       "      <td>0.000000</td>\n",
       "      <td>1.0406</td>\n",
       "    </tr>\n",
       "    <tr>\n",
       "      <th>...</th>\n",
       "      <td>...</td>\n",
       "      <td>...</td>\n",
       "      <td>...</td>\n",
       "      <td>...</td>\n",
       "      <td>...</td>\n",
       "      <td>...</td>\n",
       "      <td>...</td>\n",
       "      <td>...</td>\n",
       "      <td>...</td>\n",
       "      <td>...</td>\n",
       "    </tr>\n",
       "    <tr>\n",
       "      <th>19995</th>\n",
       "      <td>19995</td>\n",
       "      <td>B</td>\n",
       "      <td>A</td>\n",
       "      <td>A</td>\n",
       "      <td>1</td>\n",
       "      <td>4</td>\n",
       "      <td>5</td>\n",
       "      <td>0</td>\n",
       "      <td>0.000000</td>\n",
       "      <td>0.9594</td>\n",
       "    </tr>\n",
       "    <tr>\n",
       "      <th>19996</th>\n",
       "      <td>19996</td>\n",
       "      <td>B</td>\n",
       "      <td>A</td>\n",
       "      <td>B</td>\n",
       "      <td>1</td>\n",
       "      <td>2</td>\n",
       "      <td>7</td>\n",
       "      <td>0</td>\n",
       "      <td>0.000000</td>\n",
       "      <td>0.9594</td>\n",
       "    </tr>\n",
       "    <tr>\n",
       "      <th>19997</th>\n",
       "      <td>19997</td>\n",
       "      <td>A</td>\n",
       "      <td>B</td>\n",
       "      <td>A</td>\n",
       "      <td>0</td>\n",
       "      <td>6</td>\n",
       "      <td>22</td>\n",
       "      <td>5</td>\n",
       "      <td>0.227273</td>\n",
       "      <td>0.9594</td>\n",
       "    </tr>\n",
       "    <tr>\n",
       "      <th>19998</th>\n",
       "      <td>19998</td>\n",
       "      <td>A</td>\n",
       "      <td>A</td>\n",
       "      <td>B</td>\n",
       "      <td>0</td>\n",
       "      <td>10</td>\n",
       "      <td>52</td>\n",
       "      <td>0</td>\n",
       "      <td>0.000000</td>\n",
       "      <td>0.9594</td>\n",
       "    </tr>\n",
       "    <tr>\n",
       "      <th>19999</th>\n",
       "      <td>19999</td>\n",
       "      <td>B</td>\n",
       "      <td>B</td>\n",
       "      <td>A</td>\n",
       "      <td>1</td>\n",
       "      <td>9</td>\n",
       "      <td>53</td>\n",
       "      <td>0</td>\n",
       "      <td>0.000000</td>\n",
       "      <td>0.9594</td>\n",
       "    </tr>\n",
       "  </tbody>\n",
       "</table>\n",
       "<p>20000 rows × 10 columns</p>\n",
       "</div>"
      ],
      "text/plain": [
       "          id split_1 split_2 split_3  is_teenager  num_segments  views  \\\n",
       "0          0       A       B       A            0            15     62   \n",
       "1          1       A       B       B            0             4      5   \n",
       "2          2       B       A       B            1            14     47   \n",
       "3          3       B       A       B            1             2      3   \n",
       "4          4       B       A       B            0            11     50   \n",
       "...      ...     ...     ...     ...          ...           ...    ...   \n",
       "19995  19995       B       A       A            1             4      5   \n",
       "19996  19996       B       A       B            1             2      7   \n",
       "19997  19997       A       B       A            0             6     22   \n",
       "19998  19998       A       A       B            0            10     52   \n",
       "19999  19999       B       B       A            1             9     53   \n",
       "\n",
       "       clicks       ctr  weight  \n",
       "0           3  0.048387  1.0406  \n",
       "1           0  0.000000  1.0406  \n",
       "2           1  0.021277  1.0406  \n",
       "3           0  0.000000  1.0406  \n",
       "4           0  0.000000  1.0406  \n",
       "...       ...       ...     ...  \n",
       "19995       0  0.000000  0.9594  \n",
       "19996       0  0.000000  0.9594  \n",
       "19997       5  0.227273  0.9594  \n",
       "19998       0  0.000000  0.9594  \n",
       "19999       0  0.000000  0.9594  \n",
       "\n",
       "[20000 rows x 10 columns]"
      ]
     },
     "execution_count": 23,
     "metadata": {},
     "output_type": "execute_result"
    }
   ],
   "source": [
    "data_agg = data.groupby('is_teenager')[split].count().reset_index()\n",
    "display(data_agg)\n",
    "data_stratification = data.merge(data_agg.rename(columns={split:'weight'}), on='is_teenager')\n",
    "data['weight'] = data_stratification['weight'] / len(data_stratification) * len(data_agg)\n",
    "data"
   ]
  },
  {
   "cell_type": "markdown",
   "metadata": {},
   "source": [
    "Мы добавили колонку с весом на основе значений is_teenager. Теперь можем повторить эксперименты:"
   ]
  },
  {
   "cell_type": "code",
   "execution_count": 24,
   "metadata": {},
   "outputs": [],
   "source": [
    "target_cols = ['ctr', 'clicks', 'views']"
   ]
  },
  {
   "cell_type": "code",
   "execution_count": 25,
   "metadata": {},
   "outputs": [
    {
     "name": "stdout",
     "output_type": "stream",
     "text": [
      "post-strat t-test ctr: Ttest_indResult(statistic=-11.849492662291029, pvalue=2.7765560006205666e-32)\n",
      "post-strat t-test clicks: Ttest_indResult(statistic=-15.658573964745733, pvalue=6.155922254925916e-55)\n",
      "post-strat t-test views: Ttest_indResult(statistic=-0.4588963434815447, pvalue=0.6463135920590486)\n"
     ]
    }
   ],
   "source": [
    "for target in target_cols:\n",
    "    print(f'post-strat t-test {target}:', ttest_ind(data.loc[data[split] == 'A'][target] * \\\n",
    "          data.loc[data[split] == 'A']['weight'],\n",
    "          data.loc[data[split] == 'B'][target] * \\\n",
    "          data.loc[data[split] == 'B']['weight']))"
   ]
  },
  {
   "cell_type": "markdown",
   "metadata": {},
   "source": [
    "На тесте для views мы получили заметно большее значение p-value, что радует. Это делает вывод про отсутствия эффекта от эксперимента на views (как положительного, так и отрицательного!) более уверенным. Мы пользовались t-тестом. Логично уточнить его корректность с помощью дельта-метода"
   ]
  },
  {
   "cell_type": "markdown",
   "metadata": {},
   "source": [
    "### Дельта-метод"
   ]
  },
  {
   "cell_type": "code",
   "execution_count": 26,
   "metadata": {},
   "outputs": [
    {
     "name": "stdout",
     "output_type": "stream",
     "text": [
      "Delta method p-value for ctr: 0.0\n",
      "Delta method p-value for clicks: 0.0\n",
      "Delta method p-value for views: 0.5785188816046618\n"
     ]
    }
   ],
   "source": [
    "# использовал реализацию отсюда:\n",
    "# https://habr.com/ru/companies/X5Tech/articles/740476/\n",
    "\n",
    "def check_delta_method(a, b):\n",
    "    \"\"\"Проверка гипотезы с помощью дельта-метода.\n",
    "\n",
    "    Возвращает p-value.\n",
    "    \"\"\"\n",
    "    dict_ = {}\n",
    "    for data, group_name in [(a, 'a',), (b, 'b',)]:\n",
    "        n_user = len(data)\n",
    "        array_x = np.array(data.copy())\n",
    "        array_y = np.array([1] * n_user)\n",
    "        mean_x, mean_y = np.mean(array_x), np.mean(array_y)\n",
    "        var_x, var_y = np.var(array_x), np.var(array_y)\n",
    "        cov_xy = np.cov(array_x, array_y)[0, 1]\n",
    "        # точечная оценка метрики\n",
    "        pe_metric = np.sum(array_x) / np.sum(array_y)\n",
    "        # оценка дисперсии метрики\n",
    "        var_metric = (\n",
    "            var_x / mean_y ** 2\n",
    "            - 2 * (mean_x / mean_y ** 3) * cov_xy\n",
    "            + (mean_x ** 2 / mean_y ** 4) * var_y\n",
    "        ) / n_user\n",
    "        dict_[f'pe_metric_{group_name}'] = pe_metric\n",
    "        dict_[f'var_metric_{group_name}'] = var_metric\n",
    "    var = dict_['var_metric_a'] + dict_['var_metric_b']\n",
    "    delta = dict_['pe_metric_b'] - dict_['pe_metric_a']\n",
    "    t = delta / np.sqrt(var)\n",
    "    pvalue = (1 - stats.norm.cdf(np.abs(t))) * 2\n",
    "    return pvalue\n",
    "\n",
    "for target in target_cols:\n",
    "    print(f\"Delta method p-value for {target}:\",\n",
    "          check_delta_method(data.loc[data[split] == 'A'][target],\n",
    "                             data.loc[data[split] == 'B'][target]))"
   ]
  },
  {
   "cell_type": "markdown",
   "metadata": {},
   "source": [
    "Видимо, в виду некоторых вычислительно-числовых особенностей мы получили ровно ноль на первых двух тестах. В целом, дельта-метод в очередной раз подтверждает предыдущие выводы"
   ]
  },
  {
   "cell_type": "markdown",
   "metadata": {},
   "source": [
    "**Но не будем спешить с выводами!**\n",
    "\n",
    "Я бы хотел глянуть еще глубже, а именно вернуться к результатам EM-алгоритма."
   ]
  },
  {
   "cell_type": "markdown",
   "metadata": {},
   "source": [
    "### Использование EM\n",
    "\n",
    "Еще раз проведем тесты про CTR, но на трех разных кластерах, полученных в EM"
   ]
  },
  {
   "cell_type": "code",
   "execution_count": 55,
   "metadata": {},
   "outputs": [
    {
     "name": "stdout",
     "output_type": "stream",
     "text": [
      "Ttest_indResult(statistic=-2.1829225974665216, pvalue=0.02907047011146339)\n",
      "Ttest_indResult(statistic=-15.33021919839631, pvalue=2.6493552112859313e-50)\n",
      "Ttest_indResult(statistic=-15.903016914831563, pvalue=2.9752871486050955e-56)\n"
     ]
    }
   ],
   "source": [
    "for i in range(3):\n",
    "    dat = cutted_clusters[i]\n",
    "    print(ttest_ind(dat.loc[dat[split] == 'A']['ctr'], dat.loc[dat[split] == 'B']['ctr']))"
   ]
  },
  {
   "cell_type": "markdown",
   "metadata": {},
   "source": [
    "И видим крайне интересный результат (На первом кластере p-value сильно выше, чем на других, и равен 0.02)! Он будет описан в выводах в конце :)"
   ]
  },
  {
   "cell_type": "markdown",
   "metadata": {},
   "source": [
    "Пока упомяну лишь три важных пункта:\n",
    "1) Я разбивал кластеры по колонке views, т.е. после эксперимента\n",
    "2) Оказалось, что соотношение представителей групп A и B равно примерно 50/50 для всех кластеров (см. первый блок кода ниже)\n",
    "3) Улучшение средних показателей лучше у первого кластера, при этом, они могут быть обусловлены случайностью, как показали тесты выше (см. второй блок кода ниже)"
   ]
  },
  {
   "cell_type": "code",
   "execution_count": 28,
   "metadata": {},
   "outputs": [
    {
     "name": "stdout",
     "output_type": "stream",
     "text": [
      "0.501311680199875\n",
      "0.5133950316609839\n",
      "0.49617706237424547\n"
     ]
    }
   ],
   "source": [
    "for i in range(3):\n",
    "    print(len(cutted_clusters[i].loc[cutted_clusters[i][split] == 'A']) / len(cutted_clusters[i]))"
   ]
  },
  {
   "cell_type": "code",
   "execution_count": 29,
   "metadata": {},
   "outputs": [
    {
     "name": "stdout",
     "output_type": "stream",
     "text": [
      "1.8787597564844547\n",
      "1.5069558945070567\n",
      "1.5444943003305032\n"
     ]
    }
   ],
   "source": [
    "for i in range(3):\n",
    "    print(np.mean(cutted_clusters[i].loc[cutted_clusters[i][split] == 'B']['ctr']) /\n",
    "          np.mean(cutted_clusters[i].loc[cutted_clusters[i][split] == 'A']['ctr']))"
   ]
  },
  {
   "cell_type": "markdown",
   "metadata": {
    "id": "zzcXqOZPAy-y"
   },
   "source": [
    "## bootstrap (3 балла)"
   ]
  },
  {
   "cell_type": "markdown",
   "metadata": {
    "id": "vNzEqFjwA0MK"
   },
   "source": [
    "Ещё раз подведите итоги проведённого А/В теста, используя [бутстрэп](https://habr.com/ru/companies/X5Tech/articles/679842/)\n",
    "\n",
    "1. Оцените разницу в метриках, используя наивный бутстрэп и прокомментируйте, изменился ли результат А/В теста (1 балл)\n",
    "2. Оцените разницу в метриках, используя t-бутстрэп и прокомментируйте, изменился ли результат А/В теста (1 балл)\n",
    "3. Оцените разницу в метриках, используя BCA бутстрэп и прокомментируйте, изменился ли результат А/В теста (1 балл)"
   ]
  },
  {
   "cell_type": "markdown",
   "metadata": {},
   "source": [
    "Тут я потратил кучу времени на то, чтобы поиграться с разными параметрами и статистиками, но никаких информативных инсайдов вытянуть не получилось :( Поэтому, построим с помощью разных стратегий бутстрэпа доверительные интервалы для оценки среднего разницы в метриках (для ее оценки, как сказано в задании), а после этого сделаем вывод.  \n",
    "\n",
    "Смотрим именно на среднее (разных таргетов из B минус то же для A), так как это более интересно с бизнесовой точки зрения, а не какую-нибудь другую простую статистику, например, медиану, которая характарезует какого-то конкретного юзера, а не всю аудиторию в целом."
   ]
  },
  {
   "cell_type": "code",
   "execution_count": 38,
   "metadata": {},
   "outputs": [
    {
     "name": "stdout",
     "output_type": "stream",
     "text": [
      "percentile bootstrap for ctr\n",
      "BootstrapResult(confidence_interval=ConfidenceInterval(low=0.006297170803476937, high=0.008362185175021835), standard_error=0.0006267100074368952)\n",
      "percentile bootstrap for clicks\n",
      "BootstrapResult(confidence_interval=ConfidenceInterval(low=0.216, high=0.2668), standard_error=0.015504353980311601)\n",
      "percentile bootstrap for views\n",
      "BootstrapResult(confidence_interval=ConfidenceInterval(low=-0.35932000000000003, high=0.7070600000000001), standard_error=0.32395852103595807)\n"
     ]
    }
   ],
   "source": [
    "def percentile_bootstrap(array1, array2):\n",
    "    print(stats.bootstrap((array2 - array1, ), np.mean, confidence_level=0.9, method='percentile'))\n",
    "\n",
    "for target in target_cols:\n",
    "    print(f\"percentile bootstrap for {target}\")\n",
    "    res = percentile_bootstrap(np.array(data.loc[data[split] == 'A'][target]), \n",
    "                               np.array(data.loc[data[split] == 'B'][target]))"
   ]
  },
  {
   "cell_type": "code",
   "execution_count": 39,
   "metadata": {},
   "outputs": [],
   "source": [
    "from tqdm import tqdm"
   ]
  },
  {
   "cell_type": "code",
   "execution_count": 40,
   "metadata": {
    "id": "qrDW7OnsA2ni"
   },
   "outputs": [
    {
     "name": "stdout",
     "output_type": "stream",
     "text": [
      "t-bootstrap for ctr\n"
     ]
    },
    {
     "name": "stderr",
     "output_type": "stream",
     "text": [
      "100%|█████████████████████████████████████| 10000/10000 [02:12<00:00, 75.72it/s]\n"
     ]
    },
    {
     "name": "stdout",
     "output_type": "stream",
     "text": [
      "[ 0.006308840983119546 ; 0.008370146340506401 ]\n",
      "t-bootstrap for clicks\n"
     ]
    },
    {
     "name": "stderr",
     "output_type": "stream",
     "text": [
      "100%|█████████████████████████████████████| 10000/10000 [02:19<00:00, 71.76it/s]\n"
     ]
    },
    {
     "name": "stdout",
     "output_type": "stream",
     "text": [
      "[ 0.21570137515196527 ; 0.26714574946134023 ]\n",
      "t-bootstrap for views\n"
     ]
    },
    {
     "name": "stderr",
     "output_type": "stream",
     "text": [
      "100%|█████████████████████████████████████| 10000/10000 [02:22<00:00, 69.95it/s]"
     ]
    },
    {
     "name": "stdout",
     "output_type": "stream",
     "text": [
      "[ -0.35678060449996063 ; 0.7355860924773062 ]\n"
     ]
    },
    {
     "name": "stderr",
     "output_type": "stream",
     "text": [
      "\n"
     ]
    }
   ],
   "source": [
    "def t_bootstrap(array1, array2, num_samples=10000, num_subsamples=100):\n",
    "    # Код взят с семинара\n",
    "    \n",
    "    bootstrap_ses = []\n",
    "\n",
    "    X = array2 - array1\n",
    "    ## Шаг 1: Найдите точечную оценку неизвестного параметра\n",
    "    x_hat = np.mean(X)\n",
    "    ## Шаг 2: Сгенерируйте 100 boostrap-выборок из X и сохраните их в матрицу n x 100\n",
    "    bootstrap_samples = np.random.choice(X, size = (len(X), num_samples), replace = True)\n",
    "    # Шаг 2: Рассчитайте выборочное среднее по каждой bootstrap-выборке\n",
    "    bootstrap_means = np.mean(bootstrap_samples, axis = 0)\n",
    "\n",
    "    # Шаг 3: Генерируем подвыборки, по которым считаем стандартное отклонение\n",
    "    for i in tqdm(range(bootstrap_samples.shape[1])):\n",
    "      bootstrap_subsamples = np.random.choice(bootstrap_samples[:, i], size = (len(X), num_subsamples), replace=True)\n",
    "      bootstrap_subsamples_mean = np.mean(bootstrap_subsamples, axis = 0)\n",
    "      bootstrap_ses.append(np.std(bootstrap_subsamples_mean))\n",
    "    bootstrap_ses = np.array(bootstrap_ses)\n",
    "\n",
    "    # Шаг 4: Рассчитайте T\n",
    "    T = (bootstrap_means - x_hat) / bootstrap_ses\n",
    "    # Шаг 5: Найдите 0.05 и 0.95 квантили для t_star\n",
    "    T_quantiles = np.quantile(T, (0.05, 0.95))\n",
    "\n",
    "    # Шаг 6: посчитайте стандартное отклонение для подстановки в формулу\n",
    "    bootstrap_std = np.std(bootstrap_means)\n",
    "\n",
    "    # Шаг 7: Постройте 90%-ый доверительный интервал для mu\n",
    "    LB = x_hat - T_quantiles[1] * bootstrap_std\n",
    "    UB = x_hat - T_quantiles[0] * bootstrap_std\n",
    "    print('[', LB, ';', UB, ']')\n",
    "\n",
    "for target in target_cols:\n",
    "    print(f\"t-bootstrap for {target}\")\n",
    "    t_bootstrap(np.array(data.loc[data[split] == 'A'][target]), \n",
    "                np.array(data.loc[data[split] == 'B'][target]))\n"
   ]
  },
  {
   "cell_type": "code",
   "execution_count": 59,
   "metadata": {},
   "outputs": [
    {
     "name": "stdout",
     "output_type": "stream",
     "text": [
      "bca bootstrap for ctr\n",
      "BootstrapResult(confidence_interval=ConfidenceInterval(low=0.006321795719124251, high=0.00837807097717409), standard_error=0.00062370297713686)\n",
      "bca bootstrap for clicks\n",
      "BootstrapResult(confidence_interval=ConfidenceInterval(low=0.216, high=0.267), standard_error=0.015492693232075696)\n",
      "bca bootstrap for views\n",
      "BootstrapResult(confidence_interval=ConfidenceInterval(low=-0.35262510098579314, high=0.7108436326391478), standard_error=0.3254261866153765)\n"
     ]
    }
   ],
   "source": [
    "def bca_bootstrap(array1, array2):\n",
    "    cutted_array1, cutted_array2 = array1[:min(len(array1), len(array2))], array2[:min(len(array1), len(array2))]\n",
    "    cutted = max(len(array1), len(array2)) - len(cutted_array1)\n",
    "    if cutted:\n",
    "        print(f\"WARNING: cutted {cutted} elements\")\n",
    "    return stats.bootstrap((cutted_array2 - cutted_array1, ), np.mean, confidence_level=0.9, method='bca')\n",
    "\n",
    "for target in target_cols:\n",
    "    print(f\"bca bootstrap for {target}\")\n",
    "    res = bca_bootstrap(np.array(data.loc[data[split] == 'A'][target]), \n",
    "                        np.array(data.loc[data[split] == 'B'][target]))\n",
    "    print(res)"
   ]
  },
  {
   "cell_type": "markdown",
   "metadata": {},
   "source": [
    "Все три доверительных интервала очень похожи по значениям и согласуются со всеми предыдущими выводами - с 90% conf. level соответствующие интервалы для ctr и clicks содержат строго положительные значения (т.е. изменение, добавленное группе B приводит к улучшению), а вот про views нельзя уверенно ничего сказать. Как я сказал выше, это согласуется с прежними результатами, поэтому разумно еще раз прибегнуть к старому доброму EM"
   ]
  },
  {
   "cell_type": "markdown",
   "metadata": {},
   "source": [
    "### Использование EM для интерпретации результатов бутстрэпа\n",
    "\n",
    "Буду использовать BCa, так как он более устойчив по сравнению с percentile и гораздо более быстрый, чем t-bootstrap"
   ]
  },
  {
   "cell_type": "code",
   "execution_count": 62,
   "metadata": {},
   "outputs": [
    {
     "name": "stdout",
     "output_type": "stream",
     "text": [
      "bca bootstrap for cluster 0 with views target\n",
      "WARNING: cutted 21 elements\n",
      "BootstrapResult(confidence_interval=ConfidenceInterval(low=0.06788577154308617, high=0.0841683366733467), standard_error=0.004968008220796374)\n",
      "bca bootstrap for cluster 1 with views target\n",
      "WARNING: cutted 55 elements\n",
      "BootstrapResult(confidence_interval=ConfidenceInterval(low=0.006006006006006006, high=0.3973973973973974), standard_error=0.11814170845128771)\n",
      "bca bootstrap for cluster 2 with views target\n",
      "WARNING: cutted 76 elements\n",
      "BootstrapResult(confidence_interval=ConfidenceInterval(low=0.04927007299270073, high=0.11151662611516626), standard_error=0.018926406726365246)\n",
      "bca bootstrap for cluster 0 with views target\n",
      "WARNING: cutted 21 elements\n",
      "BootstrapResult(confidence_interval=ConfidenceInterval(low=0.001503006012024048, high=0.008517034068136272), standard_error=0.0020850841406824592)\n",
      "bca bootstrap for cluster 1 with views target\n",
      "WARNING: cutted 55 elements\n",
      "BootstrapResult(confidence_interval=ConfidenceInterval(low=0.9069069069069069, high=1.1391391391391392), standard_error=0.07049522599422847)\n",
      "bca bootstrap for cluster 2 with views target\n",
      "WARNING: cutted 76 elements\n",
      "BootstrapResult(confidence_interval=ConfidenceInterval(low=0.24594484995944849, high=0.3008921330089213), standard_error=0.016661427571780633)\n",
      "[0.0844188376753507, 0.4024024024024024, 0.11171938361719383] [0.0017535070140280561, 0.908908908908909, 0.2467558799675588]\n"
     ]
    }
   ],
   "source": [
    "views_hb = []\n",
    "for i in range(3):\n",
    "    print(f\"bca bootstrap for cluster {i} with views target\")\n",
    "    res = bca_bootstrap(np.array(cutted_clusters[i].loc[cutted_clusters[i][split] == 'A']['views']), \n",
    "                        np.array(cutted_clusters[i].loc[cutted_clusters[i][split] == 'B']['views']))\n",
    "    print(res)\n",
    "    views_hb.append(res.confidence_interval.high)\n",
    "    \n",
    "clicks_lb = []\n",
    "for i in range(3):\n",
    "    print(f\"bca bootstrap for cluster {i} with views target\")\n",
    "    res = bca_bootstrap(np.array(cutted_clusters[i].loc[cutted_clusters[i][split] == 'A']['clicks']), \n",
    "                        np.array(cutted_clusters[i].loc[cutted_clusters[i][split] == 'B']['clicks']))\n",
    "    print(res)\n",
    "    clicks_lb.append(res.confidence_interval.low)\n",
    "    \n",
    "print(tmph, tmpl)"
   ]
  },
  {
   "cell_type": "markdown",
   "metadata": {},
   "source": [
    "И вновь получен согласованный результат: на первом кластере в доверительные интервалы попали аплифты колонки views заметно большие по сравнению со значениями clicks, близкими к lower bound. А на втором и третьем - даже lower bound для clicks будет оказывать более сильный эффект по сравнению с upper bound для views (несложно показать это для нашей конечной метрики, дроби ctr = clicks / views, которая лежит в диапазоне от 0 до 1)"
   ]
  },
  {
   "cell_type": "markdown",
   "metadata": {
    "id": "ala1kIZFA40p"
   },
   "source": [
    "## Выводы (1.5 балла)"
   ]
  },
  {
   "cell_type": "markdown",
   "metadata": {
    "id": "slC82B6oA54C"
   },
   "source": [
    "Содержательные выводы по итогам работы, интерпретирующие результат с бизнесовой точки зрения, как минимум 3-4 предложения\n",
    "\n",
    "**NOTE:** если вы неверно выберете фичу сплитования или интерпретация полученных результатов А/В окажется некорректной, то за этот пункт будет поставлено 0 баллов вне зависимости от объёма выводов"
   ]
  },
  {
   "cell_type": "markdown",
   "metadata": {
    "id": "9eqdnKX9BMzq"
   },
   "source": [
    "Итак, сначала кратко повторю хронологию.\n",
    "\n",
    "1) Имея все данные об эксперименте, в том числе полученные после его проведения, я разделил пользователей на три смеси по колонке просмотров с помощью EM. Это разделение не использовалось в проверке однородности сплитов, но помогла с пониманием данных по ходу всего анализа, в частности, в конце, при анализе аплифтов и их статистических обоснованностей. Было выделено три группы пользователей, у которых распределение views близко к нормальному внутри каждого из этих кластеров.\n",
    "2) Проверка однородности (гипотезы сдвига, масштаба и независимости), в ходе которой был выбран split_2\n",
    "3) Затем был проведен анализ результатов AB с помощью различных критериев, пост-стратификации, дельта-метода и бутстрэпов, который приводит к следующему результату:\n",
    "\n",
    "ВЫВОД\n",
    "\n",
    "Было выяснено, что пользователей можно разбить на три группы, в зависимости от соответствующего значения колонки views. Оказалось, что это оказывает непосредственное влияние на результаты AB. Для пользователей 2-го и 3-го кластеров нет сомнений в выигрыше от введения изменений, протестированных на группе B. Для пользователей же первого кластера такое изменение может понести некоторые, пускай незначительные риски. Поэтому с точки зрения бизнеса нужно\n",
    "а) учесть расходы изменений, зависят ли они от количества пользователей и их характеристик?\n",
    "б) улучшить сегментацию, провести CustDev с тремя группами людей, выявить их отличительные черты."
   ]
  },
  {
   "cell_type": "markdown",
   "metadata": {
    "id": "bnOO2iAEBPHZ"
   },
   "source": [
    "## Бонус: CUPED (1 балл)\n",
    "\n",
    "Опишите понятным проверяющему языком, каким образом работает CUPED и реализуйте его для проведённого А/В теста"
   ]
  },
  {
   "cell_type": "markdown",
   "metadata": {
    "id": "-lgGx_zHBV45"
   },
   "source": [
    "К сожалению, в рамках данного датасета это не реализовать, хотя я очень хотел :)\n",
    "\n",
    "Дело в том, что CUPED принимает на вход информацию о метрике пользоватей обеих групп до эксперимента и после и делает некоторый adjustment (конкретные формулы не буду копипастить, читал вот здесь: https://bytepawn.com/reducing-variance-in-ab-testing-with-cuped.html), который уменьшает дисперсию оценки аплифта.\n",
    "\n",
    "В этом же датасете нет информации о пользователях до проведения эксперимента"
   ]
  }
 ],
 "metadata": {
  "colab": {
   "provenance": []
  },
  "kernelspec": {
   "display_name": "Python 3 (ipykernel)",
   "language": "python",
   "name": "python3"
  },
  "language_info": {
   "codemirror_mode": {
    "name": "ipython",
    "version": 3
   },
   "file_extension": ".py",
   "mimetype": "text/x-python",
   "name": "python",
   "nbconvert_exporter": "python",
   "pygments_lexer": "ipython3",
   "version": "3.9.12"
  }
 },
 "nbformat": 4,
 "nbformat_minor": 1
}
